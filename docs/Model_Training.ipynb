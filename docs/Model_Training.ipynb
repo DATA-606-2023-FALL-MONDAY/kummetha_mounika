{
 "cells": [
  {
   "cell_type": "code",
   "execution_count": 1,
   "id": "0e0d6a6f",
   "metadata": {},
   "outputs": [
    {
     "name": "stdout",
     "output_type": "stream",
     "text": [
      "Requirement already satisfied: pandas in /Users/nithinreddytummala/opt/anaconda3/lib/python3.9/site-packages (1.4.4)\n",
      "Requirement already satisfied: scikit-surprise in /Users/nithinreddytummala/opt/anaconda3/lib/python3.9/site-packages (1.1.3)\n",
      "Requirement already satisfied: scikit-learn in /Users/nithinreddytummala/opt/anaconda3/lib/python3.9/site-packages (1.0.2)\n",
      "Requirement already satisfied: python-dateutil>=2.8.1 in /Users/nithinreddytummala/opt/anaconda3/lib/python3.9/site-packages (from pandas) (2.8.2)\n",
      "Requirement already satisfied: pytz>=2020.1 in /Users/nithinreddytummala/opt/anaconda3/lib/python3.9/site-packages (from pandas) (2023.3.post1)\n",
      "Requirement already satisfied: numpy>=1.18.5 in /Users/nithinreddytummala/opt/anaconda3/lib/python3.9/site-packages (from pandas) (1.24.4)\n",
      "Requirement already satisfied: joblib>=1.0.0 in /Users/nithinreddytummala/opt/anaconda3/lib/python3.9/site-packages (from scikit-surprise) (1.1.0)\n",
      "Requirement already satisfied: scipy>=1.3.2 in /Users/nithinreddytummala/opt/anaconda3/lib/python3.9/site-packages (from scikit-surprise) (1.9.1)\n",
      "Requirement already satisfied: threadpoolctl>=2.0.0 in /Users/nithinreddytummala/opt/anaconda3/lib/python3.9/site-packages (from scikit-learn) (2.2.0)\n",
      "Requirement already satisfied: six>=1.5 in /Users/nithinreddytummala/opt/anaconda3/lib/python3.9/site-packages (from python-dateutil>=2.8.1->pandas) (1.16.0)\n",
      "Note: you may need to restart the kernel to use updated packages.\n"
     ]
    }
   ],
   "source": [
    "pip install pandas scikit-surprise scikit-learn\n"
   ]
  },
  {
   "cell_type": "code",
   "execution_count": 3,
   "id": "42caa6bc",
   "metadata": {},
   "outputs": [
    {
     "name": "stdout",
     "output_type": "stream",
     "text": [
      "   user_id  recipe_id        date  rating      u       i\n",
      "0     2046       4684  2000-02-25     5.0  22095   44367\n",
      "1     2046        517  2000-02-25     5.0  22095   87844\n",
      "2     1773       7435  2000-03-13     5.0  24732  138181\n",
      "3     1773        278  2000-03-13     4.0  24732   93054\n",
      "4     2046       3431  2000-04-07     5.0  22095  101723\n"
     ]
    }
   ],
   "source": [
    "import pandas as pd\n",
    "from surprise import Dataset, Reader, SVD, accuracy\n",
    "from surprise.model_selection import train_test_split, cross_validate\n",
    "\n",
    "# Load the interactions dataset (user-recipe interactions)\n",
    "df_interactions = pd.read_csv('interactions_train.csv')\n",
    "\n",
    "# Display the first few rows\n",
    "print(df_interactions.head())\n"
   ]
  },
  {
   "cell_type": "code",
   "execution_count": 5,
   "id": "f26315cd",
   "metadata": {},
   "outputs": [],
   "source": [
    "# Assuming ratings are on a scale of 1 to 5\n",
    "reader = Reader(rating_scale=(1, 5))\n",
    "data = Dataset.load_from_df(df_interactions[['user_id', 'recipe_id', 'rating']], reader)\n"
   ]
  },
  {
   "cell_type": "code",
   "execution_count": 6,
   "id": "3205be30",
   "metadata": {},
   "outputs": [],
   "source": [
    "trainset, testset = train_test_split(data, test_size=0.2)\n"
   ]
  },
  {
   "cell_type": "code",
   "execution_count": 7,
   "id": "79743753",
   "metadata": {},
   "outputs": [
    {
     "data": {
      "text/plain": [
       "<surprise.prediction_algorithms.matrix_factorization.SVD at 0x7fbf38a1abb0>"
      ]
     },
     "execution_count": 7,
     "metadata": {},
     "output_type": "execute_result"
    }
   ],
   "source": [
    "# Use SVD algorithm\n",
    "model = SVD()\n",
    "\n",
    "# Train the model on the trainset\n",
    "model.fit(trainset)\n"
   ]
  },
  {
   "cell_type": "code",
   "execution_count": 8,
   "id": "efdbca87",
   "metadata": {},
   "outputs": [
    {
     "name": "stdout",
     "output_type": "stream",
     "text": [
      "RMSE: 0.9209\n",
      "RMSE: 0.9208569766558821\n"
     ]
    }
   ],
   "source": [
    "# Test the model on the testset\n",
    "predictions = model.test(testset)\n",
    "\n",
    "# Calculate RMSE\n",
    "rmse = accuracy.rmse(predictions)\n",
    "print(f'RMSE: {rmse}')\n"
   ]
  },
  {
   "cell_type": "code",
   "execution_count": 9,
   "id": "dc25d3b9",
   "metadata": {},
   "outputs": [
    {
     "name": "stdout",
     "output_type": "stream",
     "text": [
      "Evaluating RMSE, MAE of algorithm SVD on 5 split(s).\n",
      "\n",
      "                  Fold 1  Fold 2  Fold 3  Fold 4  Fold 5  Mean    Std     \n",
      "RMSE (testset)    0.9255  0.9229  0.9201  0.9192  0.9151  0.9206  0.0035  \n",
      "MAE (testset)     0.5460  0.5437  0.5431  0.5432  0.5422  0.5436  0.0013  \n",
      "Fit time          6.39    5.55    6.54    5.99    6.14    6.12    0.34    \n",
      "Test time         1.06    0.76    0.93    0.82    0.83    0.88    0.11    \n"
     ]
    },
    {
     "data": {
      "text/plain": [
       "{'test_rmse': array([0.92549468, 0.92285478, 0.92013633, 0.91922466, 0.91512935]),\n",
       " 'test_mae': array([0.54598202, 0.5437092 , 0.54306234, 0.54315257, 0.54218514]),\n",
       " 'fit_time': (6.388487100601196,\n",
       "  5.551939964294434,\n",
       "  6.537539958953857,\n",
       "  5.987312078475952,\n",
       "  6.13904881477356),\n",
       " 'test_time': (1.0622057914733887,\n",
       "  0.7603790760040283,\n",
       "  0.9307613372802734,\n",
       "  0.8203959465026855,\n",
       "  0.8341138362884521)}"
      ]
     },
     "execution_count": 9,
     "metadata": {},
     "output_type": "execute_result"
    }
   ],
   "source": [
    "cross_validate(model, data, measures=['RMSE', 'MAE'], cv=5, verbose=True)\n"
   ]
  },
  {
   "cell_type": "code",
   "execution_count": 11,
   "id": "524ef225",
   "metadata": {},
   "outputs": [
    {
     "name": "stdout",
     "output_type": "stream",
     "text": [
      "Predicted rating: 4.573446534828776\n"
     ]
    }
   ],
   "source": [
    "user_id = 'example_user_id'\n",
    "recipe_id = 'example_recipe_id'\n",
    "\n",
    "# Predict rating\n",
    "prediction = model.predict(user_id, recipe_id)\n",
    "print(f\"Predicted rating: {prediction.est}\")\n"
   ]
  },
  {
   "cell_type": "code",
   "execution_count": null,
   "id": "61789994",
   "metadata": {},
   "outputs": [],
   "source": []
  }
 ],
 "metadata": {
  "kernelspec": {
   "display_name": "Python 3 (ipykernel)",
   "language": "python",
   "name": "python3"
  },
  "language_info": {
   "codemirror_mode": {
    "name": "ipython",
    "version": 3
   },
   "file_extension": ".py",
   "mimetype": "text/x-python",
   "name": "python",
   "nbconvert_exporter": "python",
   "pygments_lexer": "ipython3",
   "version": "3.9.13"
  }
 },
 "nbformat": 4,
 "nbformat_minor": 5
}
